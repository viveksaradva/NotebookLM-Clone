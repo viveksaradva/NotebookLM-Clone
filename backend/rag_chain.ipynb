{
 "cells": [
  {
   "cell_type": "markdown",
   "metadata": {},
   "source": [
    "1. User Query Input\n",
    "2. Retrieve Relevant Document Chunks\n",
    "3. Load Conversation History\n",
    "4. Format Prompt\n",
    "5. Call LLM (Together LLaMA-3)\n",
    "6. Store Response + Continue Chat"
   ]
  },
  {
   "cell_type": "code",
   "execution_count": 1,
   "metadata": {},
   "outputs": [
    {
     "name": "stdout",
     "output_type": "stream",
     "text": [
      "/home/vivek/Projects-and-programming/Python/NotebookLM-Clone\n"
     ]
    }
   ],
   "source": [
    "%cd .."
   ]
  },
  {
   "cell_type": "markdown",
   "metadata": {},
   "source": [
    "# Step 1: Inputs\n",
    "\n",
    "| Component\t| Input | Output |\n",
    "|-----------|-------|--------|\n",
    "|`user_query` |\tstring (e.g., \"What is the main point?\") |\tuser query (text) |\n",
    "|`document_id` | string or UUID to identify the document | retrieved chunks |\n",
    "|`session_id`\t| string (unique ID for chat memory)\t| memory restored or new |"
   ]
  },
  {
   "cell_type": "code",
   "execution_count": 2,
   "metadata": {},
   "outputs": [
    {
     "name": "stderr",
     "output_type": "stream",
     "text": [
      "/home/vivek/miniforge3/envs/NCvenv/lib/python3.10/site-packages/tqdm/auto.py:21: TqdmWarning: IProgress not found. Please update jupyter and ipywidgets. See https://ipywidgets.readthedocs.io/en/stable/user_install.html\n",
      "  from .autonotebook import tqdm as notebook_tqdm\n"
     ]
    }
   ],
   "source": [
    "from backend.vectordb.chroma_db import ChromaDBManager\n",
    "\n",
    "chroma_manager = ChromaDBManager()"
   ]
  },
  {
   "cell_type": "code",
   "execution_count": 3,
   "metadata": {},
   "outputs": [],
   "source": [
    "query = \"Give me a summary of this article!\"\n",
    "document_id = \"a63f24d4\"\n",
    "session_id = \"user_123\""
   ]
  },
  {
   "cell_type": "markdown",
   "metadata": {},
   "source": [
    "# Step 2: Retrieval\n",
    "\n",
    "| Component |\tInput |\tOutput |\n",
    "|-----------|---------|--------|\n",
    "|ChromaDBManager |\t`document_id`, `query` |\trelevant `context` chunks |\n"
   ]
  },
  {
   "cell_type": "code",
   "execution_count": null,
   "metadata": {},
   "outputs": [],
   "source": [
    "retrieved_docs, retrieved_metadata = chroma_manager.hybrid_query(query, document_id=document_id, top_k=5)\n",
    "\n",
    "retrieved_docs, retrieved_metadata"
   ]
  },
  {
   "cell_type": "code",
   "execution_count": 5,
   "metadata": {},
   "outputs": [
    {
     "data": {
      "text/plain": [
       "'that you have cloned under the schemes folderClick on Color Presets and choose a color scheme8. FINAL OUTPUT!You came this far! You’ve done it, congratulations!With the right tools that we now have, we can be much more productive compared to before. Customizing our terminal setup really requires some effort but the output that we’re aiming is all worth it.Figure 7. Final terminal UI with neofetch9) Resources/Further ReadingsAlexandre Zajac’s “Terminal 101 — The Setup Guide that will Boost your Workflow”Awesome Zsh PluginsCode Slicer’s “Your terminal can be much, MUCH more productive”Have VCS icons been replaced by simple symbols?Oh My Zsh READMEPowerlevel10k READMETerminalZshOh My ZshPowerlevel10kUnix----1FollowWritten by kjdeluna11 Followers·2 FollowingFollowResponses (1)See all responsesHelpStatusAboutCareersPressBlogPrivacyRulesTermsText to speech\\n[Keywords: p, r, o, d, u, c, t, i, v, e, ,,  , s, e, t, u, p, ,,  , f, i, n, a, l, ,,  , t, e, r, m, i, n, a, l, ,,  , o, u, t, p, u, t]\\nyou’re typing a command, if it is recognized by your shell, it’s highlighted green, otherwise, it’s red. It also gives you hints about syntax errors in your command by highlighting it.git clone https://github.com/zsh-users/zsh-syntax-highlighting.git ${ZSH_CUSTOM:-~/.oh-my-zsh/custom}/plugins/zsh-syntax-highlighting# Edit plugins variable in your ~/.zshrc file and add zsh-syntax-highlightingb) zsh-autosuggestionsThis gives you autocomplete suggestions based on your command history (commands that you’ve entered in the past). This is very useful for your most used commands with a lot of options!git clone https://github.com/zsh-users/zsh-autosuggestions ${ZSH_CUSTOM:-~/.oh-my-zsh/custom}/plugins/zsh-autosuggestions# Add zsh-autosuggestions to your list of plugins in ~/.zshrcc) fzfThis is a command-line fuzzy finder that can be used with your recently used commands, files, etc.git clone --depth 1 https://github.com/junegunn/fzf.git ~/.fzf && ~/.fzf/install# Make sure to answer \"Y\" to all\\n[Keywords: z, s, h, ,,  , s, y, n, t, a, x, ,,  , a, u, t, o, s, u, g, g, e, s, t, i, o, n, s, ,,  , g, i, t, ,,  , f, z, f]\\nfuzzy finder that can be used with your recently used commands, files, etc.git clone --depth 1 https://github.com/junegunn/fzf.git ~/.fzf && ~/.fzf/install# Make sure to answer \"Y\" to all of the questions in the interactive promptOnce installed successfully, you should now have an access with Ctrl + R and Ctrl + T key binds. What does these two do?Ctrl + R allows you to perform fuzzy search on your command historyCtrl + T allows you to perform fuzzy search on your files (with your current working directory dictating where to perform the search recursively)d) autojumpA faster way to navigate your filesystem by maintaining a database of the directories you use the most from the command linesudo apt install autojump# Add autojump to your list of plugins in ~/.zshrce) dirhistoryThis plugin simply adds keyboard shortcuts for navigating directory history and hierarchy. Most notable being Alt + [←,→] to go back to previous and next directory respectively.To use this, you just need to append\\n[Keywords: s, e, a, r, c, h, ,,  , c, t, r, l, ,,  , p, e, r, f, o, r, m, ,,  , f, u, z, z, y, ,,  , f, z, f]\\nUpgrade your Terminal experience with Zsh, Oh My Zsh, and powerlevel10k! | by kjdeluna | MediumOpen in appSign upSign inWriteSign upSign inUpgrade your Terminal experience with Zsh, Oh My Zsh, and powerlevel10k!kjdeluna·Follow8 min read·Jan 5, 2022--1ListenShareLife is boring without colors. And so is your terminal. What could go wrong with adding some aesthetics in your terminal?Or what about functionality-wise? Do you have long terminal commands that you use in a daily basis? Do you often forget where you’ve placed your files?You came to the right place!Goal:Customize my Terminal to be more aesthetically beautiful, more descriptive, and more functional — autocomplete a command, navigate easily between directories, and be able to have multiple panes in just a single terminalThis is how my terminal currently looks like:FIgure 1. Ugly, boring, unproductive initial look of my TerminalLet’s start!1. Discard Bash, Use zshIn most Linux and Mac terminals, the default you’ll have is Bash.\\n[Keywords: t, e, r, m, i, n, a, l, ,,  , e, x, p, e, r, i, e, n, c, e, ,,  , k, j, d, e, l, u, n, a, ,,  , u, p, s, i, g, n, ,,  , z, s, h]\\nbattery status in your prompt, include an icon, etc., you can configure it further using this file.\\u200b \\u200b \\u200b\\u200b\\u200b \\u200b \\u200b\\u200b\\u200b \\u200b d) Download Meslo Nerd Fonts for Powerlevel10kThese fonts are specifically for icons that you will have in your Terminal. If you want a setup with some or a lot of icons, make sure to perform this step.For iTerm2 and Termux, you would be asked whether to download Meslo Nerd Fonts automatically when you run p10k configure. But with other terminals, you need to proceed with manual installation.MesloLGS NF Regular.ttfMesloLGS NF Bold.ttfMesloLGS NF Italic.ttfMesloLGS NF Bold Italic.ttf4. PluginsThis is the main highlight of your very customizable zsh — plugins. This is how you increase your productivity.a) zsh-syntax-highlightingIt’s simply . . . a highlighter. Whilst you’re typing a command, if it is recognized by your shell, it’s highlighted green, otherwise, it’s red. It also gives you hints about syntax errors in your command by highlighting it.git clone\\n[Keywords: n, f, ,,  , t, t, f, m, e, s, l, o, l, g, s, ,,  , f, o, n, t, s, ,,  , b, o, l, d, ,,  , i, t, a, l, i, c]'"
      ]
     },
     "execution_count": 5,
     "metadata": {},
     "output_type": "execute_result"
    }
   ],
   "source": [
    "context = \"\\n\".join([\n",
    "        f\"{doc}\\n[Keywords: {', '.join(metadata.get('keywords', []))}]\"  \n",
    "        for doc, metadata in zip(retrieved_docs, retrieved_metadata or [{}])  \n",
    "    ])\n",
    "context"
   ]
  },
  {
   "cell_type": "markdown",
   "metadata": {},
   "source": [
    "# Step 3: Memory\n",
    "\n",
    "| Component |\tInput |\tOutput |\n",
    "|-----------|---------|--------|\n",
    "| RedisChatMessageHistory |\t`session_id` |\t`message history` object |"
   ]
  },
  {
   "cell_type": "code",
   "execution_count": 6,
   "metadata": {},
   "outputs": [],
   "source": [
    "from langchain_community.chat_message_histories import RedisChatMessageHistory\n",
    "from langchain.memory import ConversationBufferMemory\n",
    "from dotenv import load_dotenv\n",
    "import os\n",
    "\n",
    "load_dotenv()\n",
    "\n",
    "redis_url = os.getenv(\"REDIS_URL\")\n",
    "\n",
    "def get_message_history(session_id: str) -> RedisChatMessageHistory:\n",
    "    return RedisChatMessageHistory(session_id=session_id, url=redis_url)"
   ]
  },
  {
   "cell_type": "markdown",
   "metadata": {},
   "source": [
    "# Step 4: Prompt Creation\n",
    "\n",
    "| Component |\tInput |\tOutput |\n",
    "|-----------|---------|--------|\n",
    "| ChatPromptTemplate |\tquery + context + history |\tformatted messages |"
   ]
  },
  {
   "cell_type": "code",
   "execution_count": 7,
   "metadata": {},
   "outputs": [],
   "source": [
    "from langchain_core.prompts import ChatPromptTemplate, MessagesPlaceholder\n",
    "\n",
    "chat_prompt = ChatPromptTemplate.from_messages([\n",
    "    (\"system\",\n",
    "     \"You are a seasoned Document QA Expert and knowledgeable researcher. Your role is to carefully study and interpret the document context provided, \"\n",
    "     \"and answer the user's query with nuanced insights and a deep understanding of the material. \"\n",
    "     \"When formulating your response, consider all aspects of the content—its themes, data, structure, and any subtle nuances—without imposing a rigid structure such as always including 'Summary', 'Key Features', 'Benefits', or 'Conclusion' sections unless they naturally emerge from the document itself.\\n\\n\"\n",
    "     \"Guidelines:\\n\"\n",
    "     \"1. **Contextual Adaptation:** Tailor your response based solely on the document context and the conversation history. Your answer should be organically structured to best reflect the content's unique characteristics and the query's specific focus.\\n\"\n",
    "     \"2. **Expert Insight:** Explain complex ideas clearly and provide detailed, thoughtful analysis. Think like a human expert who synthesizes information rather than a mechanical system that outputs preset sections.\\n\"\n",
    "     \"3. **Conversational Tone:** Maintain a professional yet engaging and conversational tone. Avoid a static, template-driven response. Let your natural voice guide the structure of the answer.\\n\"\n",
    "     \"4. **Evidence-Based Reasoning:** Draw on the provided document details and explicitly reference key points where relevant. Your answer should help the user understand not just what the document says, but why those points matter.\\n\"\n",
    "     \"5. **Flexibility:** Adjust your style, tone, and structure dynamically based on the nature of the document. If the document is narrative, be descriptive; if it is technical, be precise; if it contains tables or data, interpret and integrate that information seamlessly.\\n\"\n",
    "    ),\n",
    "    MessagesPlaceholder(variable_name=\"history\"),\n",
    "    (\"human\", \"### User Query:\\n{query}\"),\n",
    "    (\"human\", \"### Relevant Document Context:\\n{context}\"),\n",
    "])"
   ]
  },
  {
   "cell_type": "markdown",
   "metadata": {},
   "source": [
    "# Step 5: LLM\n",
    "| Component |\tInput |\tOutput |\n",
    "|-----------|---------|--------|\n",
    "| TogetherChatModel |\tformatted messages |\tLLM response (text) |"
   ]
  },
  {
   "cell_type": "code",
   "execution_count": 8,
   "metadata": {},
   "outputs": [],
   "source": [
    "from langchain_core.runnables import RunnableMap, RunnableLambda\n",
    "from langchain_core.runnables.history import RunnableWithMessageHistory"
   ]
  },
  {
   "cell_type": "code",
   "execution_count": 9,
   "metadata": {},
   "outputs": [],
   "source": [
    "from langchain_together import ChatTogether\n",
    "\n",
    "llm = ChatTogether(\n",
    "    model=\"meta-llama/Llama-3.3-70B-Instruct-Turbo-Free\",\n",
    "    temperature=0.5,\n",
    "    top_p=0.9,\n",
    "    together_api_key=os.getenv(\"TOGETHER_API_KEY\")  \n",
    ")\n"
   ]
  },
  {
   "cell_type": "markdown",
   "metadata": {},
   "source": [
    "#### Chain Assembly"
   ]
  },
  {
   "cell_type": "code",
   "execution_count": 10,
   "metadata": {},
   "outputs": [],
   "source": [
    "rag_chain = (\n",
    "    RunnableMap({\n",
    "        \"query\": lambda x: x[\"query\"],\n",
    "        \"context\": lambda x: x[\"context\"],\n",
    "        \"history\": lambda x: x[\"history\"]\n",
    "    })\n",
    "    | chat_prompt\n",
    "    | llm\n",
    ")"
   ]
  },
  {
   "cell_type": "markdown",
   "metadata": {},
   "source": [
    "#### Memory-Aware Wrapper"
   ]
  },
  {
   "cell_type": "code",
   "execution_count": 11,
   "metadata": {},
   "outputs": [],
   "source": [
    "rag_with_memory = RunnableWithMessageHistory(\n",
    "    rag_chain,\n",
    "    get_message_history,\n",
    "    input_messages_key=\"query\",\n",
    "    history_messages_key=\"history\"\n",
    ")"
   ]
  },
  {
   "cell_type": "code",
   "execution_count": 13,
   "metadata": {},
   "outputs": [
    {
     "name": "stdout",
     "output_type": "stream",
     "text": [
      "It seems like you've provided a document context, but I'll summarize the main points for you.\n",
      "\n",
      "The article is about upgrading and customizing your terminal experience using Zsh, Oh My Zsh, and Powerlevel10k. The goal is to make the terminal more aesthetically beautiful, descriptive, and functional.\n",
      "\n",
      "The process starts by discarding Bash and switching to Zsh, which is the default shell in most Linux and Mac terminals. The author then installs Oh My Zsh, a framework for managing Zsh configurations, and Powerlevel10k, a theme for Zsh that provides a more customizable and functional interface.\n",
      "\n",
      "The article highlights several plugins that can be used to enhance the terminal experience, including:\n",
      "\n",
      "* zsh-syntax-highlighting: highlights commands in green if recognized by the shell and red if not, and provides hints about syntax errors\n",
      "* zsh-autosuggestions: provides autocomplete suggestions based on command history\n",
      "* fzf: a command-line fuzzy finder for searching recently used commands, files, and more\n",
      "* autojump: allows for faster navigation of the filesystem by maintaining a database of frequently used directories\n",
      "* dirhistory: adds keyboard shortcuts for navigating directory history and hierarchy\n",
      "\n",
      "The author also provides instructions on how to configure Powerlevel10k, including downloading Meslo Nerd Fonts for icons and customizing the prompt.\n",
      "\n",
      "Overall, the article aims to help readers customize their terminal setup to improve productivity and make it more visually appealing.\n"
     ]
    }
   ],
   "source": [
    "response = rag_with_memory.invoke(\n",
    "    {\n",
    "        \"query\": query,\n",
    "        \"context\": context\n",
    "    },\n",
    "    config={\"configurable\": {\"session_id\": session_id}}\n",
    ")\n",
    "\n",
    "print(response.content)"
   ]
  },
  {
   "cell_type": "code",
   "execution_count": 14,
   "metadata": {},
   "outputs": [
    {
     "data": {
      "text/plain": [
       "AIMessage(content='kjdeluna', additional_kwargs={'refusal': None}, response_metadata={'token_usage': {'completion_tokens': 4, 'prompt_tokens': 3044, 'total_tokens': 3048, 'completion_tokens_details': None, 'prompt_tokens_details': None, 'cached_tokens': 0}, 'model_name': 'meta-llama/Llama-3.3-70B-Instruct-Turbo-Free', 'system_fingerprint': None, 'id': 'npJAoqp-4Yz4kd-92d391a1ffb88b0f', 'finish_reason': 'stop', 'logprobs': None}, id='run-1e3af6ca-e81e-4249-87a5-b72f1600c079-0', usage_metadata={'input_tokens': 3044, 'output_tokens': 4, 'total_tokens': 3048, 'input_token_details': {}, 'output_token_details': {}})"
      ]
     },
     "execution_count": 14,
     "metadata": {},
     "output_type": "execute_result"
    }
   ],
   "source": [
    "rag_with_memory.invoke(\n",
    "    {\n",
    "        \"query\": \"Does the content/article specifies the naem of author? Just give me name if you find it or else say Name not found\",\n",
    "        \"context\": context\n",
    "    },\n",
    "    config={\"configurable\": {\"session_id\": session_id}}\n",
    ")"
   ]
  },
  {
   "cell_type": "markdown",
   "metadata": {},
   "source": [
    "# Step 6: Return & Persist\n",
    "| Component |\tInput |\tOutput |\n",
    "|-----------|---------|--------|\n",
    "| ChatMemory & Testing |\tSave query/answer |\tupdated memory |"
   ]
  },
  {
   "cell_type": "code",
   "execution_count": 18,
   "metadata": {},
   "outputs": [],
   "source": [
    "message_history = RedisChatMessageHistory(session_id=session_id, url=redis_url)\n",
    "\n",
    "# Each message is a BaseMessage object (HumanMessage, AIMessage, etc.)\n",
    "for msg in message_history.messages:\n",
    "    role = \"User\" if msg.type == \"human\" else \"AI\"\n",
    "    print(f\"\\n{role}: {msg.content}\")\n"
   ]
  },
  {
   "cell_type": "code",
   "execution_count": 17,
   "metadata": {},
   "outputs": [],
   "source": [
    "message_history.clear()"
   ]
  }
 ],
 "metadata": {
  "kernelspec": {
   "display_name": "NCvenv",
   "language": "python",
   "name": "python3"
  },
  "language_info": {
   "codemirror_mode": {
    "name": "ipython",
    "version": 3
   },
   "file_extension": ".py",
   "mimetype": "text/x-python",
   "name": "python",
   "nbconvert_exporter": "python",
   "pygments_lexer": "ipython3",
   "version": "undefined.undefined.undefined"
  }
 },
 "nbformat": 4,
 "nbformat_minor": 2
}
