{
 "cells": [
  {
   "cell_type": "code",
   "execution_count": 1,
   "metadata": {},
   "outputs": [],
   "source": [
    "from langchain_community.document_loaders import PyPDFLoader\n",
    "\n",
    "loader = PyPDFLoader(\"disease-handbook-complete.pdf\")\n",
    "pages = []\n",
    "async for page in loader.alazy_load():\n",
    "    pages.append(page)"
   ]
  },
  {
   "cell_type": "code",
   "execution_count": 3,
   "metadata": {},
   "outputs": [
    {
     "name": "stdout",
     "output_type": "stream",
     "text": [
      "{'producer': 'cairo 1.18.0 (https://cairographics.org)', 'creator': 'Zen Browser 136.0', 'creationdate': '2025-03-10T14:05:33+05:30', 'source': 'disease-handbook-complete.pdf', 'total_pages': 86, 'page': 1, 'page_label': '2'}\n",
      "\n",
      "Division of Public Health Services  Disease Handbook for Childcare Providers\n",
      "Bureau of Infectious Disease Control   REVISED –January 2018 \n",
      "TABLE OF CONTENTS\n",
      "Introduction (1 page)\n",
      "Acknowledgments (1 page) \n",
      " \n",
      "What Everyone Needs to Know \n",
      "• Immunization Requirements (1 page) \n",
      "• Diseases That Are Preventable With Vaccines (2 pages) \n",
      "• When A Child Should Be Excluded Or Dismissed (2 pages) \n",
      "• When Staff Should Be Excluded (1 page) \n",
      "• What Diseases Must Be Reported To Health Officials (1 page) \n",
      " \n",
      "A Primer on Preventing Disease \n",
      "• Child Abuse (1 page) \n",
      "• Diapering Recommendations (3 pages) \n",
      "• Pets In Daycare Facilities (1 page) \n",
      "• Food Handling For Childcare Settings (3 pages) \n",
      "• Rashes (1 page) \n",
      " \n",
      "Disease Fact Sheets \n",
      "AIDS (See HIV)  \n",
      "Campylobacteriosis (2 pages) \n",
      "Chicken Pox /Varicella /Shingles (2 pages) \n",
      "Cold Sores (See Oral Herpes)  \n",
      "Common Cold – Influenza (2 pages) \n",
      "Conjunctivitis (2 pages) \n",
      "Diarrhea (1 page) \n",
      "Diphtheria (1 page) \n",
      "E. Coli 0157:H7 (1 page) \n",
      "Eastern Equine Encephalitis (EEE) (2 pages) \n",
      "Fifth Disease (2 pages) \n",
      "German Measles (See Rubella) \n",
      "Giardiasis (1 page) \n",
      "Haemophilus Influenza Type B (2 pages) \n",
      "Hand, Foot & Mouth (2 pages) \n",
      "Head Lice (See Pediculosis)  \n",
      "Hepatitis A (2 pages) \n",
      "Hepatitis B (1 page) \n",
      "Herpes (See Oral Herpes) \n",
      "Hib (See Haemophilus Influenza Type B)  \n",
      "HIV /AIDS (1 page) \n",
      "Impetigo (1 page) \n",
      "Influenza (See Common Cold)  \n",
      "Lyme Disease (2 pages) \n",
      "Measles (2 pages) \n",
      "Meningococcal Illness (Meningitis) (2 pages) \n",
      "MRSA (2 pages) \n",
      "Mumps (1 page)\n",
      " \n",
      "Norovirus (2 pages) \n",
      "Oral Herpes (1 page) \n",
      "Pediculosis /Head Lice (3 pages) \n",
      "Pertussis /Whooping Cough (2 pages) \n",
      "Pink Eye (See Conjunctivitis)  \n",
      "Pinworms (1 page) \n",
      "Polio (See Poliomyelitis) \n",
      "Poliomyelitis (1 page) \n",
      "Rabies (2 pages) \n",
      "Ringworm (1 page) \n",
      "Roseola (1 page) \n",
      "Rotavirus (1 page) \n",
      "RSV (1 page) \n",
      "Rubella /German Measles (1 page) \n",
      "Salmonellosis (2 pages) \n",
      "Scabies (2 pages) \n",
      "Scarlet Fever (See Strep Throat) \n",
      "Shigellosis (1 page) \n",
      "Shingles (See Chicken Pox)  \n",
      "Strep Throat /Scarlet Fever (2 pages) \n",
      "Swimmer’s Itch (1 page) \n",
      "Tetanus (1 page) \n",
      "Tuberculosis (1 page) \n",
      "Whooping Cough (See Pertussis)  \n",
      "West Nile Virus (WNV) (2 pages) \n",
      "Reference List (1 page) \n",
      "Glossary (2 pages)\n"
     ]
    }
   ],
   "source": [
    "print(f\"{pages[1].metadata}\\n\")\n",
    "print(pages[1].page_content)"
   ]
  },
  {
   "cell_type": "code",
   "execution_count": null,
   "metadata": {},
   "outputs": [],
   "source": []
  }
 ],
 "metadata": {
  "kernelspec": {
   "display_name": "NCvenv",
   "language": "python",
   "name": "python3"
  },
  "language_info": {
   "codemirror_mode": {
    "name": "ipython",
    "version": 3
   },
   "file_extension": ".py",
   "mimetype": "text/x-python",
   "name": "python",
   "nbconvert_exporter": "python",
   "pygments_lexer": "ipython3",
   "version": "3.10.16"
  }
 },
 "nbformat": 4,
 "nbformat_minor": 2
}
